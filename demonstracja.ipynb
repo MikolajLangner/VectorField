{
 "cells": [
  {
   "cell_type": "markdown",
   "metadata": {},
   "source": [
    "# VectorField"
   ]
  },
  {
   "cell_type": "markdown",
   "metadata": {},
   "source": [
    "Moduł zawierające funkcje umożliwiające wygodne symulowanie ruchu cząstki w **polu wektorowym**. \n",
    "Podstawową funkcjonalnością jest generowanie pola oraz obliczanie położenia poruszającego się obiektu. \n",
    "Dodatkowo moduł umożliwia wizualizację ruchu.\n",
    "\n",
    "Autorzy: Mikołaj Langner, Marcin Miśkiewicz"
   ]
  },
  {
   "cell_type": "markdown",
   "metadata": {},
   "source": [
    "##  Lista funkcji z krótkimi opisami:\n",
    "\n",
    "* field - tworzy wykres pola wektorowego\n",
    "* positions - oblicza pozycje obiektu poruszającego się wewnątrz pola\n",
    "* trajectory - tworzy wykres trajektorii obiektu poruszającego się wewnątrz pola\n",
    "* gradientField - tworzy wykres pola wektorowego z gradientu funkcji\n",
    "* divergence - oblicza dywergencję pola w danym punkcie\n",
    "* curl - oblicza rotację (wirowość) pola w danym punkcie\n",
    "* animate - tworzy animacje cząstek poruszających się wewnątrz pola\n"
   ]
  },
  {
   "cell_type": "code",
   "execution_count": null,
   "metadata": {},
   "outputs": [],
   "source": [
    "# konfiguracja\n",
    "\n",
    "include(\"vector_field.jl\")\n",
    "using .VectorField\n",
    "using Makie.AbstractPlotting\n",
    "AbstractPlotting.inline!(true)\n",
    "\n",
    "# uwaga: jupyter notebook może pokazywać ostrzeżenie przy rysowaniu wykresów - brak dobrej integracji z biblioteką Makie"
   ]
  },
  {
   "cell_type": "markdown",
   "metadata": {},
   "source": [
    "## 1. field"
   ]
  },
  {
   "cell_type": "code",
   "execution_count": null,
   "metadata": {},
   "outputs": [],
   "source": [
    "? field"
   ]
  },
  {
   "cell_type": "code",
   "execution_count": null,
   "metadata": {},
   "outputs": [],
   "source": [
    "# przykład pola 2D\n",
    "\n",
    "field((x, y)->sin(x+y), (x, y)->cos(x-y), xbounds=(-3, 3), ybounds=(-3, 3))"
   ]
  },
  {
   "cell_type": "code",
   "execution_count": null,
   "metadata": {},
   "outputs": [],
   "source": [
    "# przykład pola 3D\n",
    "field((x, y, z)->-x, (x, y, z)->y, (x, y, z)->-z)"
   ]
  },
  {
   "cell_type": "markdown",
   "metadata": {},
   "source": [
    "## 2. positions"
   ]
  },
  {
   "cell_type": "code",
   "execution_count": null,
   "metadata": {},
   "outputs": [],
   "source": [
    "? positions"
   ]
  },
  {
   "cell_type": "code",
   "execution_count": null,
   "metadata": {},
   "outputs": [],
   "source": [
    "# przykład dla pola 2D\n",
    "X1, Y1 = positions((x, y)->x, (x, y)->x*y, [4, 2], time=(0, 1))\n",
    "\n",
    "println(X1[end]) # końcowa współrzędna x cząstki\n",
    "println(Y1[end]) # końcowa współrzędna y cząstki"
   ]
  },
  {
   "cell_type": "code",
   "execution_count": null,
   "metadata": {},
   "outputs": [],
   "source": [
    "# przykład dla pola 3D\n",
    "X2, Y2, Z2 = positions((x, y, z)->x, (x, y, z)->x*y, (x, y, z)->z-y-x, [4, 2, 2], time=(0, 1))\n",
    "\n",
    "println(X2[end]) # końcowa współrzędna x cząstki\n",
    "println(Y2[end]) # końcowa współrzędna y cząstki\n",
    "println(Z2[end]) # końcowa współrzędna y cząstki"
   ]
  },
  {
   "cell_type": "code",
   "execution_count": null,
   "metadata": {},
   "outputs": [],
   "source": [
    "# dane można dalej analizować\n",
    "println(max(Z2...))"
   ]
  },
  {
   "cell_type": "markdown",
   "metadata": {},
   "source": [
    "## 3. trajectory"
   ]
  },
  {
   "cell_type": "code",
   "execution_count": null,
   "metadata": {},
   "outputs": [],
   "source": [
    "? trajectory"
   ]
  },
  {
   "cell_type": "code",
   "execution_count": null,
   "metadata": {},
   "outputs": [],
   "source": [
    "# przykład dla pola 2D\n",
    "\n",
    "particles = [[1.5, 1.5], [-1.5, 1.5], [0.5, -1.5], [-1.5, -0.5], [0.1, 0.2], [-1, -2], [0, 2], [0, -2], [0.3, -0.3]]\n",
    "\n",
    "trajectory((x, y)->sin(x-y), (x, y)->-y, particles,\n",
    "            showField=:true, time = (0, 2), xbounds=(-3, 3), ybounds=(-3, 3))"
   ]
  },
  {
   "cell_type": "code",
   "execution_count": null,
   "metadata": {},
   "outputs": [],
   "source": [
    "# przykład dla pola 3D\n",
    "\n",
    "particles = [[1.5, 1.5, 1], [-1.5, 1.5, -1], [0.5, -1.5, 0.5], [-1.5, -0.5, -0.5], \n",
    "             [0.1, 0.2, 0.3], [-1, -2, -0.3], [0, 2, 1], [0, -2, -1], [0.3, -0.3, 2], [0, 0, -3]]\n",
    "\n",
    "trajectory((x, y, z)->x-y-z, (x, y, z)->-y, (x, y, z)->-z, particles,\n",
    "            showField=:false, time = (0, 3), xbounds=(-3, 3), ybounds=(-3, 3), zbounds=(-3, 3))"
   ]
  },
  {
   "cell_type": "markdown",
   "metadata": {},
   "source": [
    "## 4. gradientField"
   ]
  },
  {
   "cell_type": "code",
   "execution_count": null,
   "metadata": {},
   "outputs": [],
   "source": [
    "? gradientField"
   ]
  },
  {
   "cell_type": "code",
   "execution_count": null,
   "metadata": {},
   "outputs": [],
   "source": [
    "# przykład dla pola 2D"
   ]
  },
  {
   "cell_type": "code",
   "execution_count": null,
   "metadata": {},
   "outputs": [],
   "source": [
    "# przykład dla pola 3D"
   ]
  },
  {
   "cell_type": "code",
   "execution_count": null,
   "metadata": {},
   "outputs": [],
   "source": []
  }
 ],
 "metadata": {
  "kernelspec": {
   "display_name": "Julia 1.3.1",
   "language": "julia",
   "name": "julia-1.3"
  },
  "language_info": {
   "file_extension": ".jl",
   "mimetype": "application/julia",
   "name": "julia",
   "version": "1.3.1"
  }
 },
 "nbformat": 4,
 "nbformat_minor": 2
}
